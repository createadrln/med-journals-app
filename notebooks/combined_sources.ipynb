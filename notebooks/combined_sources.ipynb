{
 "cells": [
  {
   "cell_type": "code",
   "execution_count": 17,
   "metadata": {},
   "outputs": [],
   "source": [
    "import json\n",
    "\n",
    "# Open Pubmed JSON data file\n",
    "with open('../raw_data/pubmed_full.json', 'r') as json_file:\n",
    "    pubmed_full_data = json.load(json_file)\n",
    "\n",
    "# Open DOAJ JSON data file\n",
    "with open('../raw_data/doaj.json', 'r') as json_file:\n",
    "    doaj_full_data = json.load(json_file)\n",
    "\n",
    "# Open Europe PMC JSON data file\n",
    "with open('../raw_data/europe_pmc.json', 'r') as json_file:\n",
    "    europe_pmc_full_data = json.load(json_file)"
   ]
  },
  {
   "cell_type": "code",
   "execution_count": 18,
   "metadata": {},
   "outputs": [],
   "source": [
    "final_pubmed_data = []\n",
    "for article in pubmed_full_data['PubmedArticleSet']['PubmedArticle']:\n",
    "    final_data_row = {\n",
    "        'id': article['MedlineCitation']['PMID']['#text'],\n",
    "        'source': 'PubMed',\n",
    "        'date': article['MedlineCitation']['DateRevised'],\n",
    "        'title': article['MedlineCitation']['Article']['ArticleTitle'],\n",
    "        'link': f'https://pubmed.ncbi.nlm.nih.gov/{article[\"MedlineCitation\"][\"PMID\"][\"#text\"]}/',\n",
    "        'authors': article['MedlineCitation']['Article'].get('AuthorList', {}).get('Author', []),\n",
    "        'keywords': article['MedlineCitation'].get('KeywordList', {}).get('Keyword', []),\n",
    "        'abstract': article['MedlineCitation'].get('Abstract', {}).get('AbstractText', [])\n",
    "    }\n",
    "    final_pubmed_data.append(final_data_row)"
   ]
  },
  {
   "cell_type": "code",
   "execution_count": 19,
   "metadata": {},
   "outputs": [],
   "source": [
    "final_doaj_data = []\n",
    "for article in doaj_full_data['results']:\n",
    "    final_data_row = {\n",
    "        'id': article['id'],\n",
    "        'source': 'Doaj',\n",
    "        'date': article['last_updated'],\n",
    "        'title': article['bibjson']['title'],\n",
    "        'link': article['bibjson']['link'],\n",
    "        'authors': article['bibjson']['author'],\n",
    "        'keywords': article['bibjson'].get('keywords', []),\n",
    "        'abstract': article['bibjson'].get('abstract', '')\n",
    "    }\n",
    "    final_doaj_data.append(final_data_row)"
   ]
  },
  {
   "cell_type": "code",
   "execution_count": 20,
   "metadata": {},
   "outputs": [],
   "source": [
    "final_europe_pmc_data = []\n",
    "for article in europe_pmc_full_data:\n",
    "    final_data_row = {\n",
    "        'id': article['id'],\n",
    "        'source': 'Europe PMC',\n",
    "        'date': article['firstIndexDate'],\n",
    "        'title': article['title'],\n",
    "        'link': f'https://europepmc.org/article/{article[\"source\"]}/{article[\"id\"]}/',\n",
    "        'authors': article.get('authorString', ''),\n",
    "        'keywords': None,\n",
    "        'abstract': None\n",
    "    }\n",
    "    final_europe_pmc_data.append(final_data_row)"
   ]
  },
  {
   "cell_type": "code",
   "execution_count": 21,
   "metadata": {},
   "outputs": [],
   "source": [
    "# Combine data sources\n",
    "final_all = final_doaj_data + final_pubmed_data + final_europe_pmc_data\n",
    "with open('../raw_data/combined_sources.json', 'w') as json_file:\n",
    "    json.dump(final_all, json_file, indent=4)"
   ]
  }
 ],
 "metadata": {
  "kernelspec": {
   "display_name": "Python 3",
   "language": "python",
   "name": "python3"
  },
  "language_info": {
   "codemirror_mode": {
    "name": "ipython",
    "version": 3
   },
   "file_extension": ".py",
   "mimetype": "text/x-python",
   "name": "python",
   "nbconvert_exporter": "python",
   "pygments_lexer": "ipython3",
   "version": "3.10.9"
  }
 },
 "nbformat": 4,
 "nbformat_minor": 2
}
