{
 "cells": [
  {
   "cell_type": "code",
   "execution_count": 1,
   "metadata": {},
   "outputs": [],
   "source": [
    "import json\n",
    "\n",
    "# Open Pubmed JSON data file\n",
    "with open('../raw_data/pubmed_full.json', 'r') as json_file:\n",
    "    pubmed_full_data = json.load(json_file)\n",
    "\n",
    "# Open DOAJ JSON data file\n",
    "with open('../raw_data/doaj.json', 'r') as json_file:\n",
    "    doaj_full_data = json.load(json_file)"
   ]
  },
  {
   "cell_type": "code",
   "execution_count": 2,
   "metadata": {},
   "outputs": [],
   "source": [
    "final_pubmed_data = []\n",
    "for article in pubmed_full_data['PubmedArticleSet']['PubmedArticle']:\n",
    "    final_data_row = {\n",
    "        'id': article['MedlineCitation']['PMID']['#text'],\n",
    "        'source': 'PubMed',\n",
    "        'date': article['MedlineCitation']['DateRevised'],\n",
    "        'title': article['MedlineCitation']['Article']['ArticleTitle'],\n",
    "        'link': f'https://pubmed.ncbi.nlm.nih.gov/{article[\"MedlineCitation\"][\"PMID\"][\"#text\"]}/',\n",
    "        'authors': article['MedlineCitation']['Article'].get('AuthorList', {}).get('Author', []),\n",
    "        'keywords': article['MedlineCitation'].get('KeywordList', {}).get('Keyword', [])\n",
    "    }\n",
    "    final_pubmed_data.append(final_data_row)\n"
   ]
  },
  {
   "cell_type": "code",
   "execution_count": 3,
   "metadata": {},
   "outputs": [],
   "source": [
    "final_doaj_data = []\n",
    "for article in doaj_full_data['results']:\n",
    "    final_data_row = {\n",
    "        'id': article['id'],\n",
    "        'source': 'Doaj',\n",
    "        'date': article['last_updated'],\n",
    "        'title': article['bibjson']['title'],\n",
    "        'link': article['bibjson']['link'],\n",
    "        'authors': article['bibjson']['author'],\n",
    "        'keywords': article['bibjson'].get('keywords', [])\n",
    "    }\n",
    "    final_doaj_data.append(final_data_row)"
   ]
  },
  {
   "cell_type": "code",
   "execution_count": 4,
   "metadata": {},
   "outputs": [
    {
     "ename": "",
     "evalue": "",
     "output_type": "error",
     "traceback": [
      "\u001b[1;31mThe Kernel crashed while executing code in the current cell or a previous cell. \n",
      "\u001b[1;31mPlease review the code in the cell(s) to identify a possible cause of the failure. \n",
      "\u001b[1;31mClick <a href='https://aka.ms/vscodeJupyterKernelCrash'>here</a> for more info. \n",
      "\u001b[1;31mView Jupyter <a href='command:jupyter.viewOutput'>log</a> for further details."
     ]
    }
   ],
   "source": [
    "# Combine data sources\n",
    "final_all = final_doaj_data + final_pubmed_data\n",
    "with open('../data/combined_sources.json', 'w') as json_file:\n",
    "    json.dump(final_all, json_file, indent=4)"
   ]
  }
 ],
 "metadata": {
  "kernelspec": {
   "display_name": "Python 3",
   "language": "python",
   "name": "python3"
  },
  "language_info": {
   "codemirror_mode": {
    "name": "ipython",
    "version": 3
   },
   "file_extension": ".py",
   "mimetype": "text/x-python",
   "name": "python",
   "nbconvert_exporter": "python",
   "pygments_lexer": "ipython3",
   "version": "3.11.9"
  }
 },
 "nbformat": 4,
 "nbformat_minor": 2
}
