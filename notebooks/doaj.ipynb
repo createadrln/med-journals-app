{
 "cells": [
  {
   "cell_type": "code",
   "execution_count": 5,
   "metadata": {},
   "outputs": [],
   "source": [
    "import requests\n",
    "\n",
    "def query_doaj(query, page_size=5):\n",
    "    base_url = f\"https://doaj.org/api/search/articles/{query}\"\n",
    "    params = {\n",
    "        'pageSize': page_size,\n",
    "    }\n",
    "    \n",
    "    try:\n",
    "        # Send a GET request to the DOAJ API\n",
    "        response = requests.get(base_url, params=params)\n",
    "        response.raise_for_status()\n",
    "        \n",
    "        # Parse the response JSON\n",
    "        data = response.json()\n",
    "        return data\n",
    "    \n",
    "    except requests.exceptions.RequestException as e:\n",
    "        print(f\"An error occurred while querying DOAJ: {e}\")"
   ]
  },
  {
   "cell_type": "code",
   "execution_count": 6,
   "metadata": {},
   "outputs": [],
   "source": [
    "import json\n",
    "\n",
    "with open('../raw_data/doaj.json', 'w') as json_file:\n",
    "    json.dump(query_doaj(\"COVID-19\", page_size=100), json_file, indent=4)"
   ]
  }
 ],
 "metadata": {
  "kernelspec": {
   "display_name": "Python 3",
   "language": "python",
   "name": "python3"
  },
  "language_info": {
   "codemirror_mode": {
    "name": "ipython",
    "version": 3
   },
   "file_extension": ".py",
   "mimetype": "text/x-python",
   "name": "python",
   "nbconvert_exporter": "python",
   "pygments_lexer": "ipython3",
   "version": "3.11.9"
  }
 },
 "nbformat": 4,
 "nbformat_minor": 2
}
