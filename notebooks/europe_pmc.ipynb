{
 "cells": [
  {
   "cell_type": "code",
   "execution_count": null,
   "metadata": {},
   "outputs": [],
   "source": [
    "import requests\n",
    "import json\n",
    "from datetime import date\n",
    "\n",
    "BASE_URL = \"https://www.ebi.ac.uk/europepmc/webservices/rest/search\"\n",
    "\n",
    "all_results = []\n",
    "cursor_mark = \"*\"\n",
    "page_count = 0\n",
    "today = date.today()\n",
    "\n",
    "while page_count < 5:\n",
    "    params = {\n",
    "        \"query\": \"COVID-19\",\n",
    "        \"format\": \"json\",\n",
    "        \"pageSize\": \"50\",\n",
    "        \"cursorMark\": cursor_mark\n",
    "    }\n",
    "\n",
    "    try:\n",
    "        response = requests.get(BASE_URL, params=params)\n",
    "        response.raise_for_status()\n",
    "        data = response.json()\n",
    "\n",
    "        articles = data.get(\"resultList\", {}).get(\"result\", [])\n",
    "        next_cursor = data.get(\"nextCursorMark\", None)\n",
    "\n",
    "        if not articles:\n",
    "            print(\"No more articles found.\")\n",
    "            break\n",
    "\n",
    "        all_results.extend(articles)\n",
    "\n",
    "        if not next_cursor or next_cursor == cursor_mark:\n",
    "            break\n",
    "\n",
    "        cursor_mark = next_cursor\n",
    "        page_count += 1\n",
    "\n",
    "    except requests.exceptions.RequestException as e:\n",
    "        print(f\"Error fetching data: {e}\")\n",
    "        break\n",
    "\n",
    "with open(\"../raw_data/europe_pmc.json\", \"w\", encoding=\"utf-8\") as file:\n",
    "    json.dump(all_results, file, indent=4)"
   ]
  }
 ],
 "metadata": {
  "kernelspec": {
   "display_name": "Python 3",
   "language": "python",
   "name": "python3"
  },
  "language_info": {
   "codemirror_mode": {
    "name": "ipython",
    "version": 3
   },
   "file_extension": ".py",
   "mimetype": "text/x-python",
   "name": "python",
   "nbconvert_exporter": "python",
   "pygments_lexer": "ipython3",
   "version": "3.10.9"
  }
 },
 "nbformat": 4,
 "nbformat_minor": 2
}
