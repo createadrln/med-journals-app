{
 "cells": [
  {
   "cell_type": "code",
   "execution_count": 90,
   "metadata": {},
   "outputs": [],
   "source": [
    "import sqlite3\n",
    "import json"
   ]
  },
  {
   "cell_type": "code",
   "execution_count": 91,
   "metadata": {},
   "outputs": [],
   "source": [
    "conn = sqlite3.connect('../databases/CovidData.db')\n",
    "cursor = conn.cursor()"
   ]
  },
  {
   "cell_type": "code",
   "execution_count": 92,
   "metadata": {},
   "outputs": [
    {
     "data": {
      "text/plain": [
       "<sqlite3.Cursor at 0x1eb55fd2240>"
      ]
     },
     "execution_count": 92,
     "metadata": {},
     "output_type": "execute_result"
    }
   ],
   "source": [
    "\n",
    "cursor.execute('''\n",
    "    CREATE TABLE IF NOT EXISTS covid_research (\n",
    "        id TEXT PRIMARY KEY,\n",
    "        source TEXT,\n",
    "        pub_date TEXT,\n",
    "        pub_timestamp TEXT,\n",
    "        title TEXT,\n",
    "        link TEXT,\n",
    "        authors TEXT,\n",
    "        authors_affiliations TEXT,\n",
    "        keywords TEXT\n",
    "    )\n",
    "''')\n",
    "\n",
    "cursor.execute('''\n",
    "    CREATE TABLE IF NOT EXISTS covid_research_keywords (\n",
    "        id INTEGER PRIMARY KEY,\n",
    "        keyword TEXT,\n",
    "        article_id TEXT,\n",
    "        count INTEGER\n",
    "    )\n",
    "''')"
   ]
  },
  {
   "cell_type": "code",
   "execution_count": 93,
   "metadata": {},
   "outputs": [],
   "source": [
    "from datetime import datetime\n",
    "\n",
    "\n",
    "def fetch_keywords_by_value(keyword):\n",
    "    sql = \"SELECT * FROM covid_research_keywords WHERE keyword LIKE ?\"\n",
    "    cursor.execute(sql, (f\"%{keyword}%\",))  # Use wildcards with LIKE\n",
    "    rows = cursor.fetchall()\n",
    "    return rows\n",
    "\n",
    "\n",
    "with open('../data/combined_sources.json', 'r') as json_file:\n",
    "    data = json.load(json_file)\n",
    "    list_delimiter = ', '\n",
    "    keywords_stopwords = ['COVID', 'COVID-19', 'SARS-CoV-2', 'covid-19', 'Covid-19', 'covid-19 pandemic',\n",
    "                          'SARS-COV-2', 'кластерний аналіз', 'нейронна мережа', 'машинне навчання', 'епідемічний процес']\n",
    "\n",
    "    for item in data:\n",
    "        if item['source'] == 'Doaj':\n",
    "            # format journal date\n",
    "            datetime_object = datetime.strptime(\n",
    "                item['date'], '%Y-%m-%dT%H:%M:%SZ')\n",
    "            datetime_timestamp = datetime.timestamp(datetime_object)\n",
    "\n",
    "            # format authors and affiliations lists\n",
    "            authors_list = []\n",
    "            author_affiliations_list = []\n",
    "            for author in item['authors']:\n",
    "                authors_list.append(author.get('name', \"\"))\n",
    "                author_affiliations_list.append(author.get('affiliation', \"\"))\n",
    "\n",
    "            for keyword in item['keywords']:\n",
    "                if keyword not in keywords_stopwords:\n",
    "                    # if fetch_keywords_by_value(keyword):\n",
    "                    #     # add article id to list\n",
    "                    # else:\n",
    "                    print(\"EXISTING KEYWORD: %s\", fetch_keywords_by_value(keyword))\n",
    "                    cursor.execute(\n",
    "                        \"INSERT OR IGNORE INTO covid_research_keywords VALUES(?,?,?)\", (None, keyword, item['id']))\n",
    "\n",
    "            # insert db row\n",
    "            cursor.execute(\"INSERT OR IGNORE INTO covid_research VALUES(?,?,?,?,?,?,?,?,?)\", (\n",
    "                item['id'],\n",
    "                item['source'],\n",
    "                str(datetime_object),\n",
    "                str(datetime_timestamp),\n",
    "                item['title'],\n",
    "                list_delimiter.join([link['url'] for link in item['link']]),\n",
    "                list_delimiter.join(authors_list),\n",
    "                list_delimiter.join(author_affiliations_list),\n",
    "                list_delimiter.join(item['keywords'])\n",
    "            ))\n",
    "\n",
    "        if item['source'] == 'PubMed':\n",
    "            # format journal date\n",
    "            formatted_date_str = f\"{item['date']['Year']}-{item['date']['Month']}-{item['date']['Day']}\"\n",
    "            datetime_object = datetime.strptime(formatted_date_str, '%Y-%m-%d')\n",
    "            datetime_timestamp = datetime.timestamp(datetime_object)\n",
    "\n",
    "            # format authors and affiliations lists\n",
    "            authors_list = []\n",
    "            affiliations = []\n",
    "            if isinstance(item['authors'], list):\n",
    "                for author in item['authors']:\n",
    "                    if author.get('AffiliationInfo'):\n",
    "                        if isinstance(author['AffiliationInfo'], list):\n",
    "                            for affiliation in author.get('AffiliationInfo', []):\n",
    "                                affiliations.append(\n",
    "                                    affiliation.get('Affiliation', ''))\n",
    "                        elif isinstance(author['AffiliationInfo'], dict):\n",
    "                            affiliations.append(author.get(\n",
    "                                'AffiliationInfo', {}).get('Affiliation', ''))\n",
    "                    authors_list.append(\n",
    "                        f\"{author.get('ForeName', '')} {author.get('LastName', '')}\")\n",
    "\n",
    "            # format keywords lists\n",
    "            keywords_list = []\n",
    "            for keyword in item.get('keywords', []):\n",
    "                keywords_list.append(keyword['#text'])\n",
    "                if keyword['#text'] not in keywords_stopwords:\n",
    "                    cursor.execute(\n",
    "                        \"INSERT OR IGNORE INTO covid_research_keywords VALUES(?,?,?)\", (None, keyword['#text'], item['id']))\n",
    "\n",
    "            # insert db row\n",
    "            cursor.execute(\"INSERT OR IGNORE INTO covid_research VALUES(?,?,?,?,?,?,?,?,?)\", (\n",
    "                item['id'],\n",
    "                item['source'],\n",
    "                str(datetime_object),\n",
    "                str(datetime_timestamp),\n",
    "                item['title'],\n",
    "                item['link'],\n",
    "                list_delimiter.join(authors_list),\n",
    "                list_delimiter.join(affiliations),\n",
    "                list_delimiter.join(keywords_list)\n",
    "            ))"
   ]
  },
  {
   "cell_type": "code",
   "execution_count": 94,
   "metadata": {},
   "outputs": [],
   "source": [
    "conn.commit()\n",
    "conn.close()"
   ]
  }
 ],
 "metadata": {
  "kernelspec": {
   "display_name": "Python 3",
   "language": "python",
   "name": "python3"
  },
  "language_info": {
   "codemirror_mode": {
    "name": "ipython",
    "version": 3
   },
   "file_extension": ".py",
   "mimetype": "text/x-python",
   "name": "python",
   "nbconvert_exporter": "python",
   "pygments_lexer": "ipython3",
   "version": "3.10.11"
  }
 },
 "nbformat": 4,
 "nbformat_minor": 2
}
