{
 "cells": [
  {
   "cell_type": "code",
   "execution_count": 1,
   "metadata": {},
   "outputs": [],
   "source": [
    "import sqlite3\n",
    "import json"
   ]
  },
  {
   "cell_type": "code",
   "execution_count": 2,
   "metadata": {},
   "outputs": [],
   "source": [
    "conn = sqlite3.connect('../data/CovidData.db')\n",
    "cursor = conn.cursor()"
   ]
  },
  {
   "cell_type": "code",
   "execution_count": 9,
   "metadata": {},
   "outputs": [
    {
     "data": {
      "text/plain": [
       "<sqlite3.Cursor at 0x1fe410a84c0>"
      ]
     },
     "execution_count": 9,
     "metadata": {},
     "output_type": "execute_result"
    }
   ],
   "source": [
    "create_research_table_sql = \"\"\"\n",
    "    CREATE TABLE IF NOT EXISTS covid_research (\n",
    "        id TEXT PRIMARY KEY,\n",
    "        source TEXT,\n",
    "        pub_date TEXT,\n",
    "        pub_timestamp TEXT,\n",
    "        title TEXT,\n",
    "        link TEXT,\n",
    "        authors TEXT,\n",
    "        authors_affiliations TEXT,\n",
    "        keywords TEXT\n",
    "    )\n",
    "\"\"\"\n",
    "\n",
    "create_keywords_table_sql = \"\"\"\n",
    "    CREATE TABLE IF NOT EXISTS covid_research_keywords (\n",
    "        id TEXT PRIMARY KEY,\n",
    "        keyword TEXT\n",
    "    )\n",
    "\"\"\"\n",
    "\n",
    "create_abstracts_table_sql = \"\"\"\n",
    "    CREATE TABLE IF NOT EXISTS covid_research_abstracts (\n",
    "        id TEXT PRIMARY KEY,\n",
    "        abstract TEXT\n",
    "    )\n",
    "\"\"\"\n",
    "\n",
    "cursor.execute(create_research_table_sql)\n",
    "cursor.execute(create_keywords_table_sql)\n",
    "cursor.execute(create_abstracts_table_sql)"
   ]
  },
  {
   "cell_type": "code",
   "execution_count": 12,
   "metadata": {},
   "outputs": [
    {
     "ename": "ProgrammingError",
     "evalue": "Error binding parameter 6: type 'dict' is not supported",
     "output_type": "error",
     "traceback": [
      "\u001b[31m---------------------------------------------------------------------------\u001b[39m",
      "\u001b[31mProgrammingError\u001b[39m                          Traceback (most recent call last)",
      "\u001b[36mCell\u001b[39m\u001b[36m \u001b[39m\u001b[32mIn[12]\u001b[39m\u001b[32m, line 23\u001b[39m\n\u001b[32m     19\u001b[39m     \u001b[38;5;28;01mfor\u001b[39;00m keyword \u001b[38;5;129;01min\u001b[39;00m keywords_list:\n\u001b[32m     20\u001b[39m         cursor.execute(\n\u001b[32m     21\u001b[39m             \u001b[33m\"\u001b[39m\u001b[33mINSERT OR IGNORE INTO covid_research_keywords VALUES(?,?)\u001b[39m\u001b[33m\"\u001b[39m, (item[\u001b[33m'\u001b[39m\u001b[33mid\u001b[39m\u001b[33m'\u001b[39m], keyword))\n\u001b[32m---> \u001b[39m\u001b[32m23\u001b[39m     \u001b[43mcursor\u001b[49m\u001b[43m.\u001b[49m\u001b[43mexecute\u001b[49m\u001b[43m(\u001b[49m\u001b[33;43m\"\u001b[39;49m\u001b[33;43mINSERT OR IGNORE INTO covid_research VALUES(?,?,?,?,?,?,?,?,?)\u001b[39;49m\u001b[33;43m\"\u001b[39;49m\u001b[43m,\u001b[49m\u001b[43m \u001b[49m\u001b[43m(\u001b[49m\n\u001b[32m     24\u001b[39m \u001b[43m        \u001b[49m\u001b[43mitem\u001b[49m\u001b[43m[\u001b[49m\u001b[33;43m'\u001b[39;49m\u001b[33;43mid\u001b[39;49m\u001b[33;43m'\u001b[39;49m\u001b[43m]\u001b[49m\u001b[43m,\u001b[49m\n\u001b[32m     25\u001b[39m \u001b[43m        \u001b[49m\u001b[43mitem\u001b[49m\u001b[43m[\u001b[49m\u001b[33;43m'\u001b[39;49m\u001b[33;43msource\u001b[39;49m\u001b[33;43m'\u001b[39;49m\u001b[43m]\u001b[49m\u001b[43m,\u001b[49m\n\u001b[32m     26\u001b[39m \u001b[43m        \u001b[49m\u001b[38;5;28;43mstr\u001b[39;49m\u001b[43m(\u001b[49m\u001b[43mdatetime_object\u001b[49m\u001b[43m)\u001b[49m\u001b[43m,\u001b[49m\n\u001b[32m     27\u001b[39m \u001b[43m        \u001b[49m\u001b[38;5;28;43mstr\u001b[39;49m\u001b[43m(\u001b[49m\u001b[43mdatetime_timestamp\u001b[49m\u001b[43m)\u001b[49m\u001b[43m,\u001b[49m\n\u001b[32m     28\u001b[39m \u001b[43m        \u001b[49m\u001b[43mitem\u001b[49m\u001b[43m[\u001b[49m\u001b[33;43m'\u001b[39;49m\u001b[33;43mtitle\u001b[39;49m\u001b[33;43m'\u001b[39;49m\u001b[43m]\u001b[49m\u001b[43m,\u001b[49m\n\u001b[32m     29\u001b[39m \u001b[43m        \u001b[49m\u001b[43mitem\u001b[49m\u001b[43m[\u001b[49m\u001b[33;43m'\u001b[39;49m\u001b[33;43mlink\u001b[39;49m\u001b[33;43m'\u001b[39;49m\u001b[43m]\u001b[49m\u001b[43m,\u001b[49m\n\u001b[32m     30\u001b[39m \u001b[43m        \u001b[49m\u001b[43mitem\u001b[49m\u001b[43m[\u001b[49m\u001b[33;43m'\u001b[39;49m\u001b[33;43mauthors\u001b[39;49m\u001b[33;43m'\u001b[39;49m\u001b[43m]\u001b[49m\u001b[43m,\u001b[49m\n\u001b[32m     31\u001b[39m \u001b[43m        \u001b[49m\u001b[38;5;28;43;01mNone\u001b[39;49;00m\u001b[43m,\u001b[49m\n\u001b[32m     32\u001b[39m \u001b[43m        \u001b[49m\u001b[38;5;28;43;01mNone\u001b[39;49;00m\u001b[43m,\u001b[49m\n\u001b[32m     33\u001b[39m \u001b[43m    \u001b[49m\u001b[43m)\u001b[49m\u001b[43m)\u001b[49m\n\u001b[32m     35\u001b[39m     cursor.execute(\u001b[33m\"\u001b[39m\u001b[33mINSERT OR IGNORE INTO covid_research_abstracts VALUES(?,?)\u001b[39m\u001b[33m\"\u001b[39m, (\n\u001b[32m     36\u001b[39m         item[\u001b[33m'\u001b[39m\u001b[33mid\u001b[39m\u001b[33m'\u001b[39m],\n\u001b[32m     37\u001b[39m         item[\u001b[33m'\u001b[39m\u001b[33mabstract\u001b[39m\u001b[33m'\u001b[39m],\n\u001b[32m     38\u001b[39m     ))\n\u001b[32m     40\u001b[39m \u001b[38;5;28;01mif\u001b[39;00m item[\u001b[33m'\u001b[39m\u001b[33msource\u001b[39m\u001b[33m'\u001b[39m] == \u001b[33m'\u001b[39m\u001b[33mEurope PMC\u001b[39m\u001b[33m'\u001b[39m:\n",
      "\u001b[31mProgrammingError\u001b[39m: Error binding parameter 6: type 'dict' is not supported"
     ]
    }
   ],
   "source": [
    "from datetime import datetime\n",
    "import csv\n",
    "\n",
    "list_delimiter = ', '\n",
    "\n",
    "with open('../raw_data/combined_sources.json', 'r') as json_file:\n",
    "    data = json.load(json_file)\n",
    "\n",
    "    for item in data:\n",
    "        if item['source'] == 'Springer':\n",
    "            datetime_object = datetime.strptime(\n",
    "                item['date'], '%Y-%m-%d')\n",
    "            datetime_timestamp = datetime.timestamp(datetime_object)\n",
    "\n",
    "            keywords_list = []\n",
    "            for keyword in item.get('keywords', []):\n",
    "                keywords_list.append(keyword)\n",
    "\n",
    "            for keyword in keywords_list:\n",
    "                cursor.execute(\n",
    "                    \"INSERT OR IGNORE INTO covid_research_keywords VALUES(?,?)\", (item['id'], keyword))\n",
    "\n",
    "            cursor.execute(\"INSERT OR IGNORE INTO covid_research VALUES(?,?,?,?,?,?,?,?,?)\", (\n",
    "                item['id'],\n",
    "                item['source'],\n",
    "                str(datetime_object),\n",
    "                str(datetime_timestamp),\n",
    "                item['title'],\n",
    "                item['link'],\n",
    "                item['authors'],\n",
    "                None,\n",
    "                None,\n",
    "            ))\n",
    "\n",
    "            cursor.execute(\"INSERT OR IGNORE INTO covid_research_abstracts VALUES(?,?)\", (\n",
    "                item['id'],\n",
    "                item['abstract'],\n",
    "            ))\n",
    "\n",
    "        if item['source'] == 'Europe PMC':\n",
    "            datetime_object = datetime.strptime(\n",
    "                item['date'], '%Y-%m-%d')\n",
    "            datetime_timestamp = datetime.timestamp(datetime_object)\n",
    "\n",
    "            cursor.execute(\"INSERT OR IGNORE INTO covid_research VALUES(?,?,?,?,?,?,?,?,?)\", (\n",
    "                item['id'],\n",
    "                item['source'],\n",
    "                str(datetime_object),\n",
    "                str(datetime_timestamp),\n",
    "                item['title'],\n",
    "                item['link'],\n",
    "                item['authors'],\n",
    "                None,\n",
    "                None,\n",
    "            ))\n",
    "\n",
    "        if item['source'] == 'Doaj':\n",
    "            datetime_object = datetime.strptime(\n",
    "                item['date'], '%Y-%m-%dT%H:%M:%SZ')\n",
    "            datetime_timestamp = datetime.timestamp(datetime_object)\n",
    "\n",
    "            authors_list = []\n",
    "            author_affiliations_list = []\n",
    "            for author in item['authors']:\n",
    "                authors_list.append(author.get('name', \"\"))\n",
    "                author_affiliations_list.append(author.get('affiliation', \"\"))\n",
    "\n",
    "            keywords_list = []\n",
    "            with open('keyword_stopwords.csv', 'r') as file:\n",
    "                reader = csv.reader(file, delimiter=',')\n",
    "                for row in reader:\n",
    "                    for keyword in item['keywords']:\n",
    "                        keywords_list.append(keyword)\n",
    "                        if keyword.strip().lower().replace('-', '') not in row:\n",
    "                            cursor.execute(\n",
    "                                \"INSERT OR IGNORE INTO covid_research_keywords VALUES(?,?)\", (item['id'], keyword))\n",
    "\n",
    "            cursor.execute(\"INSERT OR IGNORE INTO covid_research VALUES(?,?,?,?,?,?,?,?,?)\", (\n",
    "                item['id'],\n",
    "                item['source'],\n",
    "                str(datetime_object),\n",
    "                str(datetime_timestamp),\n",
    "                item['title'],\n",
    "                list_delimiter.join([link['url'] for link in item['link']]),\n",
    "                list_delimiter.join(authors_list),\n",
    "                list_delimiter.join(author_affiliations_list),\n",
    "                list_delimiter.join(keywords_list),\n",
    "            ))\n",
    "\n",
    "            cursor.execute(\"INSERT OR IGNORE INTO covid_research_abstracts VALUES(?,?)\", (\n",
    "                item['id'],\n",
    "                item['abstract'],\n",
    "            ))\n",
    "\n",
    "        if item['source'] == 'PubMed':\n",
    "            formatted_date_str = f\"{item['date']['Year']}-{item['date']['Month']}-{item['date']['Day']}\"\n",
    "            datetime_object = datetime.strptime(formatted_date_str, '%Y-%m-%d')\n",
    "            datetime_timestamp = datetime.timestamp(datetime_object)\n",
    "\n",
    "            authors_list = []\n",
    "            affiliations = []\n",
    "            if isinstance(item['authors'], list):\n",
    "                for author in item['authors']:\n",
    "                    if author.get('AffiliationInfo'):\n",
    "                        if isinstance(author['AffiliationInfo'], list):\n",
    "                            for affiliation in author.get('AffiliationInfo', []):\n",
    "                                affiliations.append(\n",
    "                                    affiliation.get('Affiliation', ''))\n",
    "                        elif isinstance(author['AffiliationInfo'], dict):\n",
    "                            affiliations.append(author.get(\n",
    "                                'AffiliationInfo', {}).get('Affiliation', ''))\n",
    "                    authors_list.append(\n",
    "                        f\"{author.get('ForeName', '')} {author.get('LastName', '')}\")\n",
    "\n",
    "            keywords_list = []\n",
    "            if isinstance(item['keywords'], dict):\n",
    "                keywords_list.append(item['keywords']['#text'])\n",
    "            else:\n",
    "                for keyword in item.get('keywords', []):\n",
    "                    keywords_list.append(keyword['#text'])\n",
    "\n",
    "            for keyword in keywords_list:\n",
    "                with open('keyword_stopwords.csv', 'r') as file:\n",
    "                    reader = csv.reader(file, delimiter=',')\n",
    "                    for row in reader:\n",
    "                        if keyword.strip().lower().replace('-', '') not in row:\n",
    "                            cursor.execute(\n",
    "                                \"INSERT OR IGNORE INTO covid_research_keywords VALUES(?,?)\", (item['id'], keyword))\n",
    "\n",
    "            title = item['title']\n",
    "            if isinstance(item['title'], dict):\n",
    "                title = item['title']['#text']\n",
    "\n",
    "            cursor.execute(\"INSERT OR IGNORE INTO covid_research VALUES(?,?,?,?,?,?,?,?,?)\", (\n",
    "                item['id'],\n",
    "                item['source'],\n",
    "                str(datetime_object),\n",
    "                str(datetime_timestamp),\n",
    "                title,\n",
    "                item['link'],\n",
    "                list_delimiter.join(authors_list),\n",
    "                list_delimiter.join(affiliations),\n",
    "                list_delimiter.join(keywords_list),\n",
    "            ))\n",
    "\n",
    "            cursor.execute(\"INSERT OR IGNORE INTO covid_research_abstracts VALUES(?,?)\", (\n",
    "                item['id'],\n",
    "                list_delimiter.join(item['abstract']),\n",
    "            ))"
   ]
  },
  {
   "cell_type": "code",
   "execution_count": null,
   "metadata": {},
   "outputs": [
    {
     "data": {
      "text/plain": [
       "<sqlite3.Cursor at 0x1fe40ffaf40>"
      ]
     },
     "execution_count": 5,
     "metadata": {},
     "output_type": "execute_result"
    }
   ],
   "source": [
    "cursor.execute(\n",
    "    \"\"\"DELETE FROM covid_research_keywords WHERE keyword IN ('Pandemic', 'pandemic', 'COVID-19', 'SARS-CoV-2', 'covid-19', 'Pandemics', '“COVID-19”', 'covid‐19', 'COVID‐19', 'SARS‐CoV‐2', 'SARS-CoV-2 pandemic', 'COVID-19 or SARS-CoV-2', 'pandemie', 'Coronavirus')\"\"\")"
   ]
  },
  {
   "cell_type": "code",
   "execution_count": null,
   "metadata": {},
   "outputs": [],
   "source": [
    "conn.commit()\n",
    "conn.close()"
   ]
  }
 ],
 "metadata": {
  "kernelspec": {
   "display_name": "Python 3",
   "language": "python",
   "name": "python3"
  },
  "language_info": {
   "codemirror_mode": {
    "name": "ipython",
    "version": 3
   },
   "file_extension": ".py",
   "mimetype": "text/x-python",
   "name": "python",
   "nbconvert_exporter": "python",
   "pygments_lexer": "ipython3",
   "version": "3.13.2"
  }
 },
 "nbformat": 4,
 "nbformat_minor": 2
}
