{
 "cells": [
  {
   "cell_type": "code",
   "execution_count": 1,
   "metadata": {},
   "outputs": [],
   "source": [
    "import sqlite3\n",
    "import json"
   ]
  },
  {
   "cell_type": "code",
   "execution_count": 2,
   "metadata": {},
   "outputs": [],
   "source": [
    "conn = sqlite3.connect('../databases/CovidData.db')\n",
    "cursor = conn.cursor()"
   ]
  },
  {
   "cell_type": "code",
   "execution_count": 3,
   "metadata": {},
   "outputs": [
    {
     "data": {
      "text/plain": [
       "<sqlite3.Cursor at 0x2433c31e3c0>"
      ]
     },
     "execution_count": 3,
     "metadata": {},
     "output_type": "execute_result"
    }
   ],
   "source": [
    "cursor.execute('''\n",
    "    CREATE TABLE IF NOT EXISTS covid_journals_data (\n",
    "        id TEXT PRIMARY KEY,\n",
    "        source TEXT,\n",
    "        pub_date TEXT,\n",
    "        pub_timestamp TEXT,\n",
    "        title TEXT,\n",
    "        link TEXT,\n",
    "        authors TEXT,\n",
    "        keywords TEXT\n",
    "    )\n",
    "''')"
   ]
  },
  {
   "cell_type": "code",
   "execution_count": 4,
   "metadata": {},
   "outputs": [],
   "source": [
    "from datetime import datetime\n",
    "with open('../data/combined_sources.json', 'r') as json_file:\n",
    "    data = json.load(json_file)\n",
    "    for item in data:\n",
    "        if item['source'] == 'Doaj':\n",
    "            # format journal date\n",
    "            datetime_object = datetime.strptime(item['date'], '%Y-%m-%dT%H:%M:%SZ')\n",
    "            datetime_timestamp = datetime.timestamp(datetime_object)\n",
    "\n",
    "            # format authors and affiliations lists\n",
    "            authors_list = []\n",
    "            for author in item['authors']:\n",
    "                authors_list.append({\n",
    "                    \"name\": author.get('name', \"\"),\n",
    "                    \"affiliations\": author.get('affiliation', \"\"),\n",
    "                })\n",
    "\n",
    "            # insert db row\n",
    "            cursor.execute(\"INSERT OR IGNORE INTO covid_journals_data VALUES(?,?,?,?,?,?,?,?)\", (\n",
    "                item['id'],\n",
    "                item['source'],\n",
    "                str(datetime_object),\n",
    "                str(datetime_timestamp),\n",
    "                item['title'],\n",
    "                str([link['url'] for link in item['link']]),\n",
    "                str(authors_list),\n",
    "                str(item['keywords']),\n",
    "            ))\n",
    "        if item['source'] == 'PubMed':\n",
    "            # format journal date\n",
    "            formatted_date_str = f\"{item['date']['Year']}-{item['date']['Month']}-{item['date']['Day']}\"\n",
    "            datetime_object = datetime.strptime(formatted_date_str, '%Y-%m-%d')\n",
    "            datetime_timestamp = datetime.timestamp(datetime_object)\n",
    "\n",
    "            # format authors and affiliations lists\n",
    "            authors_list = []\n",
    "            if isinstance(item['authors'], list):\n",
    "                for author in item['authors']:\n",
    "                    affiliations = []\n",
    "                    if author.get('AffiliationInfo'):\n",
    "                        if isinstance(author['AffiliationInfo'], list):\n",
    "                            for affiliation in author.get('AffiliationInfo', []):\n",
    "                                affiliations.append(affiliation)\n",
    "                        elif isinstance(author['AffiliationInfo'], dict):\n",
    "                            affiliations.append(author.get(\n",
    "                                'AffiliationInfo', {}).get('Affiliation', {}))\n",
    "                    authors_list.append({\n",
    "                        \"name\": f\"{author.get('ForeName', '')} {author.get('LastName', '')}\",\n",
    "                        \"affiliations\": affiliations,\n",
    "                    })\n",
    "\n",
    "            # format keywords lists\n",
    "            keywords_list = []\n",
    "            for keyword in item.get('keywords', []):\n",
    "                keywords_list.append(keyword['#text'])\n",
    "\n",
    "            # insert db row\n",
    "            cursor.execute(\"INSERT OR IGNORE INTO covid_journals_data VALUES(?,?,?,?,?,?,?,?)\", (\n",
    "                item['id'],\n",
    "                item['source'],\n",
    "                str(datetime_object),\n",
    "                str(datetime_timestamp),\n",
    "                item['title'],\n",
    "                item['link'],\n",
    "                str(authors_list),\n",
    "                str(keywords_list),\n",
    "            ))"
   ]
  },
  {
   "cell_type": "code",
   "execution_count": 5,
   "metadata": {},
   "outputs": [],
   "source": [
    "conn.commit()\n",
    "conn.close()"
   ]
  }
 ],
 "metadata": {
  "kernelspec": {
   "display_name": "Python 3",
   "language": "python",
   "name": "python3"
  },
  "language_info": {
   "codemirror_mode": {
    "name": "ipython",
    "version": 3
   },
   "file_extension": ".py",
   "mimetype": "text/x-python",
   "name": "python",
   "nbconvert_exporter": "python",
   "pygments_lexer": "ipython3",
   "version": "3.10.11"
  }
 },
 "nbformat": 4,
 "nbformat_minor": 2
}
