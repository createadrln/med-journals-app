{
 "cells": [
  {
   "cell_type": "code",
   "execution_count": 1,
   "metadata": {},
   "outputs": [],
   "source": [
    "import sqlite3\n",
    "import json"
   ]
  },
  {
   "cell_type": "code",
   "execution_count": 2,
   "metadata": {},
   "outputs": [],
   "source": [
    "conn = sqlite3.connect('../databases/CovidData.db')\n",
    "cursor = conn.cursor()"
   ]
  },
  {
   "cell_type": "code",
   "execution_count": 3,
   "metadata": {},
   "outputs": [
    {
     "data": {
      "text/plain": [
       "<sqlite3.Cursor at 0x1eb54e3e540>"
      ]
     },
     "execution_count": 3,
     "metadata": {},
     "output_type": "execute_result"
    }
   ],
   "source": [
    "cursor.execute('''\n",
    "    CREATE TABLE IF NOT EXISTS covid_journals_data (\n",
    "        id TEXT PRIMARY KEY,\n",
    "        source TEXT,\n",
    "        pub_date TEXT,\n",
    "        pub_timestamp TEXT,\n",
    "        title TEXT,\n",
    "        link TEXT,\n",
    "        authors TEXT,\n",
    "        authors_affiliations TEXT,\n",
    "        keywords TEXT\n",
    "    )\n",
    "''')"
   ]
  },
  {
   "cell_type": "code",
   "execution_count": null,
   "metadata": {},
   "outputs": [
    {
     "name": "stdout",
     "output_type": "stream",
     "text": [
      "{'Affiliation': 'Division for Health Services, Norwegian Institute of Public Health, Oslo, Norway. andrew.garratt@fhi.no.'}\n",
      "{'Affiliation': 'Health Services Research Unit, Akershus University Hospital, Nordbyhagen, Norway. andrew.garratt@fhi.no.'}\n",
      "{'Affiliation': 'Health Services Research Unit, Akershus University Hospital, Nordbyhagen, Norway.'}\n",
      "{'Affiliation': 'Institute of Clinical Medicine, University of Oslo, Oslo, Norway.'}\n",
      "{'Affiliation': 'Department of Pulmonary Medicine, Medical Division, Akershus University Hospital, Nordbyhagen, Norway.'}\n"
     ]
    },
    {
     "ename": "TypeError",
     "evalue": "sequence item 0: expected str instance, dict found",
     "output_type": "error",
     "traceback": [
      "\u001b[1;31m---------------------------------------------------------------------------\u001b[0m",
      "\u001b[1;31mTypeError\u001b[0m                                 Traceback (most recent call last)",
      "Cell \u001b[1;32mIn[19], line 68\u001b[0m\n\u001b[0;32m     57\u001b[0m     keywords_list\u001b[38;5;241m.\u001b[39mappend(keyword[\u001b[38;5;124m'\u001b[39m\u001b[38;5;124m#text\u001b[39m\u001b[38;5;124m'\u001b[39m])\n\u001b[0;32m     59\u001b[0m \u001b[38;5;66;03m# insert db row\u001b[39;00m\n\u001b[0;32m     60\u001b[0m cursor\u001b[38;5;241m.\u001b[39mexecute(\u001b[38;5;124m\"\u001b[39m\u001b[38;5;124mINSERT OR IGNORE INTO covid_journals_data VALUES(?,?,?,?,?,?,?,?,?)\u001b[39m\u001b[38;5;124m\"\u001b[39m, (\n\u001b[0;32m     61\u001b[0m     item[\u001b[38;5;124m'\u001b[39m\u001b[38;5;124mid\u001b[39m\u001b[38;5;124m'\u001b[39m],\n\u001b[0;32m     62\u001b[0m     item[\u001b[38;5;124m'\u001b[39m\u001b[38;5;124msource\u001b[39m\u001b[38;5;124m'\u001b[39m],\n\u001b[0;32m     63\u001b[0m     \u001b[38;5;28mstr\u001b[39m(datetime_object),\n\u001b[0;32m     64\u001b[0m     \u001b[38;5;28mstr\u001b[39m(datetime_timestamp),\n\u001b[0;32m     65\u001b[0m     item[\u001b[38;5;124m'\u001b[39m\u001b[38;5;124mtitle\u001b[39m\u001b[38;5;124m'\u001b[39m],\n\u001b[0;32m     66\u001b[0m     item[\u001b[38;5;124m'\u001b[39m\u001b[38;5;124mlink\u001b[39m\u001b[38;5;124m'\u001b[39m],\n\u001b[0;32m     67\u001b[0m     list_delimiter\u001b[38;5;241m.\u001b[39mjoin(authors_list),\n\u001b[1;32m---> 68\u001b[0m     \u001b[43mlist_delimiter\u001b[49m\u001b[38;5;241;43m.\u001b[39;49m\u001b[43mjoin\u001b[49m\u001b[43m(\u001b[49m\u001b[43maffiliations\u001b[49m\u001b[43m)\u001b[49m,\n\u001b[0;32m     69\u001b[0m     list_delimiter\u001b[38;5;241m.\u001b[39mjoin(keywords_list)\n\u001b[0;32m     70\u001b[0m ))\n",
      "\u001b[1;31mTypeError\u001b[0m: sequence item 0: expected str instance, dict found"
     ]
    }
   ],
   "source": [
    "from datetime import datetime\n",
    "with open('../data/combined_sources.json', 'r') as json_file:\n",
    "    data = json.load(json_file)\n",
    "    list_delimiter = \", \"\n",
    "\n",
    "    for item in data:\n",
    "        if item['source'] == 'Doaj':\n",
    "            # format journal date\n",
    "            datetime_object = datetime.strptime(\n",
    "                item['date'], '%Y-%m-%dT%H:%M:%SZ')\n",
    "            datetime_timestamp = datetime.timestamp(datetime_object)\n",
    "\n",
    "            # format authors and affiliations lists\n",
    "            authors_list = []\n",
    "            author_affiliations_list = []\n",
    "            for author in item['authors']:\n",
    "                authors_list.append(author.get('name', \"\"))\n",
    "                author_affiliations_list.append(author.get('affiliation', \"\"))\n",
    "\n",
    "            # insert db row\n",
    "            cursor.execute(\"INSERT OR IGNORE INTO covid_journals_data VALUES(?,?,?,?,?,?,?,?,?)\", (\n",
    "                item['id'],\n",
    "                item['source'],\n",
    "                str(datetime_object),\n",
    "                str(datetime_timestamp),\n",
    "                item['title'],\n",
    "                list_delimiter.join([link['url'] for link in item['link']]),\n",
    "                list_delimiter.join(authors_list),\n",
    "                list_delimiter.join(author_affiliations_list),\n",
    "                list_delimiter.join(item['keywords'])\n",
    "            ))\n",
    "        if item['source'] == 'PubMed':\n",
    "            # format journal date\n",
    "            formatted_date_str = f\"{item['date']['Year']}-{item['date']['Month']}-{item['date']['Day']}\"\n",
    "            datetime_object = datetime.strptime(formatted_date_str, '%Y-%m-%d')\n",
    "            datetime_timestamp = datetime.timestamp(datetime_object)\n",
    "\n",
    "            # format authors and affiliations lists\n",
    "            authors_list = []\n",
    "            affiliations = []\n",
    "            if isinstance(item['authors'], list):\n",
    "                for author in item['authors']:\n",
    "                    if author.get('AffiliationInfo'):\n",
    "                        if isinstance(author['AffiliationInfo'], list):\n",
    "                            for affiliation in author.get('AffiliationInfo', []):\n",
    "                                affiliations.append(affiliation.get('Affiliation', ''))\n",
    "                        elif isinstance(author['AffiliationInfo'], dict):\n",
    "                            affiliations.append(author.get(\n",
    "                                'AffiliationInfo', {}).get('Affiliation', ''))\n",
    "                    authors_list.append(\n",
    "                        f\"{author.get('ForeName', '')} {author.get('LastName', '')}\")\n",
    "\n",
    "            # format keywords lists\n",
    "            keywords_list = []\n",
    "            for keyword in item.get('keywords', []):\n",
    "                keywords_list.append(keyword['#text'])\n",
    "\n",
    "            # insert db row\n",
    "            cursor.execute(\"INSERT OR IGNORE INTO covid_journals_data VALUES(?,?,?,?,?,?,?,?,?)\", (\n",
    "                item['id'],\n",
    "                item['source'],\n",
    "                str(datetime_object),\n",
    "                str(datetime_timestamp),\n",
    "                item['title'],\n",
    "                item['link'],\n",
    "                list_delimiter.join(authors_list),\n",
    "                list_delimiter.join(affiliations),\n",
    "                list_delimiter.join(keywords_list)\n",
    "            ))"
   ]
  },
  {
   "cell_type": "code",
   "execution_count": 9,
   "metadata": {},
   "outputs": [],
   "source": [
    "conn.commit()\n",
    "conn.close()"
   ]
  }
 ],
 "metadata": {
  "kernelspec": {
   "display_name": "Python 3",
   "language": "python",
   "name": "python3"
  },
  "language_info": {
   "codemirror_mode": {
    "name": "ipython",
    "version": 3
   },
   "file_extension": ".py",
   "mimetype": "text/x-python",
   "name": "python",
   "nbconvert_exporter": "python",
   "pygments_lexer": "ipython3",
   "version": "3.10.11"
  }
 },
 "nbformat": 4,
 "nbformat_minor": 2
}
