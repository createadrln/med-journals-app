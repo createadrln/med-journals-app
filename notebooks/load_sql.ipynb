{
 "cells": [
  {
   "cell_type": "code",
   "execution_count": null,
   "metadata": {},
   "outputs": [],
   "source": [
    "import sqlite3\n",
    "import json"
   ]
  },
  {
   "cell_type": "code",
   "execution_count": 25,
   "metadata": {},
   "outputs": [],
   "source": [
    "conn = sqlite3.connect('../databases/CovidData.db')\n",
    "cursor = conn.cursor()"
   ]
  },
  {
   "cell_type": "code",
   "execution_count": null,
   "metadata": {},
   "outputs": [],
   "source": [
    "create_research_table_sql = \"\"\"\n",
    "    CREATE TABLE IF NOT EXISTS covid_research (\n",
    "        id TEXT PRIMARY KEY,\n",
    "        source TEXT,\n",
    "        pub_date TEXT,\n",
    "        pub_timestamp TEXT,\n",
    "        title TEXT,\n",
    "        link TEXT,\n",
    "        authors TEXT,\n",
    "        authors_affiliations TEXT\n",
    "    )\n",
    "\"\"\"\n",
    "\n",
    "create_keywords_table_sql = \"\"\"\n",
    "    CREATE TABLE IF NOT EXISTS covid_research_keywords (\n",
    "        keyword TEXT PRIMARY KEY,\n",
    "        count INTEGER\n",
    "    )\n",
    "\"\"\"\n",
    "\n",
    "cursor.execute(create_research_table_sql)\n",
    "cursor.execute(create_keywords_table_sql)"
   ]
  },
  {
   "cell_type": "code",
   "execution_count": null,
   "metadata": {},
   "outputs": [],
   "source": [
    "from datetime import datetime\n",
    "import csv\n",
    "\n",
    "list_delimiter = ', '\n",
    "\n",
    "with open('../data/combined_sources.json', 'r') as json_file:\n",
    "    data = json.load(json_file)\n",
    "\n",
    "    for item in data:\n",
    "        if item['source'] == 'Doaj':\n",
    "            # format journal date\n",
    "            datetime_object = datetime.strptime(\n",
    "                item['date'], '%Y-%m-%dT%H:%M:%SZ')\n",
    "            datetime_timestamp = datetime.timestamp(datetime_object)\n",
    "\n",
    "            # format authors and affiliations lists\n",
    "            authors_list = []\n",
    "            author_affiliations_list = []\n",
    "            for author in item['authors']:\n",
    "                authors_list.append(author.get('name', \"\"))\n",
    "                author_affiliations_list.append(author.get('affiliation', \"\"))\n",
    "\n",
    "            # format keywords lists\n",
    "            with open('keyword_stopwords.csv', 'r') as file:\n",
    "                reader = csv.reader(file, delimiter=',')\n",
    "                for row in reader:\n",
    "                    for keyword in item['keywords']:\n",
    "                        if keyword.strip().lower().replace('-', '') not in row:\n",
    "                            cursor.execute(\n",
    "                                \"INSERT INTO covid_research_keywords VALUES(?,?) ON CONFLICT(keyword) DO UPDATE SET count=count+1\", (keyword, 1))\n",
    "\n",
    "            cursor.execute(\"INSERT OR IGNORE INTO covid_research VALUES(?,?,?,?,?,?,?,?)\", (\n",
    "                item['id'],\n",
    "                item['source'],\n",
    "                str(datetime_object),\n",
    "                str(datetime_timestamp),\n",
    "                item['title'],\n",
    "                list_delimiter.join([link['url'] for link in item['link']]),\n",
    "                list_delimiter.join(authors_list),\n",
    "                list_delimiter.join(author_affiliations_list),\n",
    "            ))\n",
    "\n",
    "        if item['source'] == 'PubMed':\n",
    "            # format journal date\n",
    "            formatted_date_str = f\"{item['date']['Year']}-{item['date']['Month']}-{item['date']['Day']}\"\n",
    "            datetime_object = datetime.strptime(formatted_date_str, '%Y-%m-%d')\n",
    "            datetime_timestamp = datetime.timestamp(datetime_object)\n",
    "\n",
    "            # format authors and affiliations lists\n",
    "            authors_list = []\n",
    "            affiliations = []\n",
    "            if isinstance(item['authors'], list):\n",
    "                for author in item['authors']:\n",
    "                    if author.get('AffiliationInfo'):\n",
    "                        if isinstance(author['AffiliationInfo'], list):\n",
    "                            for affiliation in author.get('AffiliationInfo', []):\n",
    "                                affiliations.append(\n",
    "                                    affiliation.get('Affiliation', ''))\n",
    "                        elif isinstance(author['AffiliationInfo'], dict):\n",
    "                            affiliations.append(author.get(\n",
    "                                'AffiliationInfo', {}).get('Affiliation', ''))\n",
    "                    authors_list.append(\n",
    "                        f\"{author.get('ForeName', '')} {author.get('LastName', '')}\")\n",
    "\n",
    "            # format keywords lists\n",
    "            keywords_list = []\n",
    "            for keyword in item.get('keywords', []):\n",
    "                keywords_list.append(keyword['#text'])\n",
    "                with open('keyword_stopwords.csv', 'r') as file:\n",
    "                    reader = csv.reader(file, delimiter=',')\n",
    "                    for row in reader:\n",
    "                        if keyword['#text'].strip().lower().replace('-', '') not in row:\n",
    "                            cursor.execute(\n",
    "                                \"INSERT INTO covid_research_keywords VALUES(?,?) ON CONFLICT(keyword) DO UPDATE SET count=count+1\", (keyword['#text'], 1))\n",
    "\n",
    "            title = item['title']\n",
    "            if isinstance(item['title'], dict):\n",
    "                title = item['title']['#text']\n",
    "\n",
    "            # insert db row\n",
    "            cursor.execute(\"INSERT OR IGNORE INTO covid_research VALUES(?,?,?,?,?,?,?,?)\", (\n",
    "                item['id'],\n",
    "                item['source'],\n",
    "                str(datetime_object),\n",
    "                str(datetime_timestamp),\n",
    "                title,\n",
    "                item['link'],\n",
    "                list_delimiter.join(authors_list),\n",
    "                list_delimiter.join(affiliations),\n",
    "            ))"
   ]
  },
  {
   "cell_type": "code",
   "execution_count": 30,
   "metadata": {},
   "outputs": [
    {
     "data": {
      "text/plain": [
       "<sqlite3.Cursor at 0x1c3b37c4ec0>"
      ]
     },
     "execution_count": 30,
     "metadata": {},
     "output_type": "execute_result"
    }
   ],
   "source": [
    "# manually delete keywords\n",
    "\n",
    "cursor.execute(\n",
    "    \"\"\"DELETE FROM covid_research_keywords WHERE keyword IN (\n",
    "        'Pandemic', 'pandemic', 'COVID-19', 'SARS-CoV-2', 'covid-19', 'Pandemics', '“COVID-19”', 'covid-19'\n",
    "        )\"\"\")"
   ]
  },
  {
   "cell_type": "code",
   "execution_count": 31,
   "metadata": {},
   "outputs": [],
   "source": [
    "conn.commit()\n",
    "conn.close()"
   ]
  }
 ],
 "metadata": {
  "kernelspec": {
   "display_name": "Python 3",
   "language": "python",
   "name": "python3"
  },
  "language_info": {
   "codemirror_mode": {
    "name": "ipython",
    "version": 3
   },
   "file_extension": ".py",
   "mimetype": "text/x-python",
   "name": "python",
   "nbconvert_exporter": "python",
   "pygments_lexer": "ipython3",
   "version": "3.10.9"
  }
 },
 "nbformat": 4,
 "nbformat_minor": 2
}
