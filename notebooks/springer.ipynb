{
 "cells": [
  {
   "cell_type": "code",
   "execution_count": null,
   "metadata": {},
   "outputs": [],
   "source": [
    "import springernature_api_client.openaccess as openaccess\n",
    "\n",
    "import json\n",
    "\n",
    "API_KEY = \"4469bb1a301391b47d98e28d86d95115\"\n",
    "BASE_URL = \"https://api.springernature.com/openaccess/json\"\n",
    "\n",
    "openaccess_client = openaccess.OpenAccessAPI(API_KEY)\n",
    "\n",
    "try:\n",
    "    response = openaccess_client.search(q=\"COVID-19\", p=20, s=1, fetch_all=False, is_premium=False)\n",
    "    with open(\"../raw_data/springer.json\", \"w\", encoding=\"utf-8\") as file:\n",
    "        json.dump(response, file, indent=4)\n",
    "\n",
    "    print(\"Finished downloading Springer COVID-19 research data.\")\n",
    "\n",
    "except Exception as e:\n",
    "    print(e)"
   ]
  }
 ],
 "metadata": {
  "kernelspec": {
   "display_name": "Python 3",
   "language": "python",
   "name": "python3"
  },
  "language_info": {
   "codemirror_mode": {
    "name": "ipython",
    "version": 3
   },
   "file_extension": ".py",
   "mimetype": "text/x-python",
   "name": "python",
   "nbconvert_exporter": "python",
   "pygments_lexer": "ipython3",
   "version": "3.13.2"
  }
 },
 "nbformat": 4,
 "nbformat_minor": 2
}
