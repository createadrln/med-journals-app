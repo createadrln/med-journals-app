{
 "cells": [
  {
   "cell_type": "code",
   "execution_count": 1,
   "metadata": {},
   "outputs": [],
   "source": [
    "import requests\n",
    "\n",
    "def fetch_pubmed_data(query, type = 'full'):\n",
    "    base_url = \"https://eutils.ncbi.nlm.nih.gov/entrez/eutils/esearch.fcgi\"\n",
    "    params = {\n",
    "        'db': 'pubmed',\n",
    "        'term': query,\n",
    "        'retmax': 100,\n",
    "        'retmode': 'json',\n",
    "        'apikey': None\n",
    "    }\n",
    "    response = requests.get(base_url, params=params)\n",
    "    id_list = response.json()['esearchresult']['idlist']\n",
    "\n",
    "    if type is 'detail':\n",
    "        detail_url = \"https://eutils.ncbi.nlm.nih.gov/entrez/eutils/esummary.fcgi\"\n",
    "        details_params = {\n",
    "            'db': 'pubmed',\n",
    "            'id': ','.join(id_list),\n",
    "            'retmode': 'json',\n",
    "            'apikey': None\n",
    "        }\n",
    "        detail_response = requests.get(detail_url, params=details_params)\n",
    "        return detail_response.json()\n",
    "\n",
    "    full_url = \"https://eutils.ncbi.nlm.nih.gov/entrez/eutils/efetch.fcgi\"\n",
    "    full_params = {\n",
    "        'db': 'pubmed',\n",
    "        'id': ','.join(id_list),\n",
    "        # 'rettype': 'medline',\n",
    "        'retmode': 'xml',\n",
    "        'apikey': None\n",
    "    }\n",
    "    full_response = requests.get(full_url, params=full_params)\n",
    "    return full_response\n",
    "\n",
    "data = fetch_pubmed_data('COVID-19')"
   ]
  },
  {
   "cell_type": "code",
   "execution_count": null,
   "metadata": {},
   "outputs": [],
   "source": [
    "import json\n",
    "from bs4 import BeautifulSoup\n",
    "import xmltodict\n",
    "\n",
    "Bs_data = BeautifulSoup(data.text, 'xml')\n",
    "b_article = Bs_data.find_all('PubmedArticle')\n",
    "\n",
    "data_dict = json.dumps(xmltodict.parse(Bs_data.prettify()))"
   ]
  },
  {
   "cell_type": "code",
   "execution_count": 19,
   "metadata": {},
   "outputs": [],
   "source": [
    "import json\n",
    "with open('pubmed_full.json', 'w') as json_file:\n",
    "    json.dump(json.loads(data_dict), json_file, indent=4)\n",
    "    \n",
    "# for uid in data['result']['uids']:\n",
    "#     print(data['result'][uid]['title'])\n",
    "#     print(data['result'][uid]['pubdate'])\n"
   ]
  }
 ],
 "metadata": {
  "kernelspec": {
   "display_name": "Python 3",
   "language": "python",
   "name": "python3"
  },
  "language_info": {
   "codemirror_mode": {
    "name": "ipython",
    "version": 3
   },
   "file_extension": ".py",
   "mimetype": "text/x-python",
   "name": "python",
   "nbconvert_exporter": "python",
   "pygments_lexer": "ipython3",
   "version": "3.11.9"
  }
 },
 "nbformat": 4,
 "nbformat_minor": 2
}
